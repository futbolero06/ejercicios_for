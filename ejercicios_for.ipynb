{
  "nbformat": 4,
  "nbformat_minor": 0,
  "metadata": {
    "colab": {
      "provenance": [],
      "authorship_tag": "ABX9TyM2SCNMj03SqawVarp7SGJJ",
      "include_colab_link": true
    },
    "kernelspec": {
      "name": "python3",
      "display_name": "Python 3"
    },
    "language_info": {
      "name": "python"
    }
  },
  "cells": [
    {
      "cell_type": "markdown",
      "metadata": {
        "id": "view-in-github",
        "colab_type": "text"
      },
      "source": [
        "<a href=\"https://colab.research.google.com/github/futbolero06/ejercicios_for/blob/main/ejercicios_for.ipynb\" target=\"_parent\"><img src=\"https://colab.research.google.com/assets/colab-badge.svg\" alt=\"Open In Colab\"/></a>"
      ]
    },
    {
      "cell_type": "markdown",
      "source": [
        "# INSTRUCCCIÓN REPETITIVA FOR"
      ],
      "metadata": {
        "id": "VMyeLa9wrAHs"
      }
    },
    {
      "cell_type": "code",
      "source": [
        "# EJERCICIO 1: MOSTRAR LOS NÚMEROS DEL 1 AL 10, SIN USAR INSTRICCIONES REPETITIVAS\n",
        "\n",
        "print(1)\n",
        "print(2)\n",
        "print(3)\n",
        "print(4)\n",
        "print(5)\n",
        "print(6)\n",
        "print(7)\n",
        "print(8)\n",
        "print(9)\n",
        "print(10)"
      ],
      "metadata": {
        "id": "uorurOfeq66M"
      },
      "execution_count": null,
      "outputs": []
    },
    {
      "cell_type": "code",
      "source": [
        "\n",
        "# EJERCICIO 2: mostrar los números del 1 al 10, usando la instrucción WHILE\n",
        "contador = 1 \n",
        "print(contador)\n",
        "while contador < 10:\n",
        "  #contador = contador +1\n",
        "  contador += 1 \n",
        "  print(contador)"
      ],
      "metadata": {
        "id": "ehrnu8vGtb6y"
      },
      "execution_count": null,
      "outputs": []
    },
    {
      "cell_type": "code",
      "source": [
        "# EJERCICIO 3: Mostrar los numeros del 1 al 10 utilizando for y una lista como iterable\n",
        "\n",
        "lista=[1,2,3,4,5,6,7,8,9,10]\n",
        "\n",
        "for i in lista:\n",
        "  print(i)"
      ],
      "metadata": {
        "id": "kYezj5k8vQLM"
      },
      "execution_count": null,
      "outputs": []
    },
    {
      "cell_type": "code",
      "source": [
        "# EJERCICIO 4: mostrar los números del 1 al 10 usando la instrucción for y la función range\n",
        "\n",
        "for i in range (1,11):\n",
        "  print (i)"
      ],
      "metadata": {
        "id": "l45mg-SawqBS"
      },
      "execution_count": null,
      "outputs": []
    },
    {
      "cell_type": "code",
      "source": [
        "# EJERCICIO 5 : mostrar una frase 10 veces usando la instrucción for y una lista\n",
        "\n",
        "lista=[1,2,3,4,5,6,7,8,9,10]\n",
        "\n",
        "for i in lista:\n",
        "  print(f\"{i} sistemas, la mejor\")"
      ],
      "metadata": {
        "id": "OkhkNGJJxoGJ"
      },
      "execution_count": null,
      "outputs": []
    },
    {
      "cell_type": "code",
      "source": [
        "# EJERCICIO 6: mostar las sílaba inicial de los días de la semana usando for y una lista con la sílaba inicial e los días de la semana\n",
        "\n",
        "días_semana=[\"lu\", \"ma\", \"mi\", \"ju\", \"vi\", \"sa\", \"do\"]\n",
        "\n",
        "for i in días_semana:\n",
        "  print(i)"
      ],
      "metadata": {
        "id": "UJzKA7C2yftw"
      },
      "execution_count": null,
      "outputs": []
    },
    {
      "cell_type": "code",
      "source": [
        "#  EJERCICIO 7: mostrar una lsta de distintos tipos de datos usando for\n",
        "\n",
        "lista=(\"uno\", 1.2, 3,45, \"amarillo los plátanos\")\n",
        "\n",
        "for i in lista:\n",
        "  print(i)"
      ],
      "metadata": {
        "id": "QNoO8pdczc19"
      },
      "execution_count": null,
      "outputs": []
    },
    {
      "cell_type": "code",
      "source": [
        "# EJERCICIO 8: ingresar su nombre y mostrarlo letra por letra, utilizando for\n",
        "\n",
        "nombre= input(\"digite su nombre: \")\n",
        "\n",
        "for letra in nombre:\n",
        "  print (letra)"
      ],
      "metadata": {
        "id": "MId4VNoj0CBk"
      },
      "execution_count": null,
      "outputs": []
    },
    {
      "cell_type": "code",
      "source": [
        "# EJERCICIO 9 : ingresar nombre y mostralo letra a letra usando for, cambiando por asteriscoa  ala vocal e\n",
        "\n",
        "nombre= input(\"digite su nombre: \")\n",
        "\n",
        "for i in nombre:\n",
        "  if i=='e':\n",
        "    print('*')\n",
        "  else:\n",
        "    print(i)"
      ],
      "metadata": {
        "id": "WO8utKwe09H9"
      },
      "execution_count": null,
      "outputs": []
    },
    {
      "cell_type": "code",
      "source": [
        "#EJERCICICIO 10: ingresar nombre y mostrarlo letra x letra en mayúcula, usando for  \n",
        "\n",
        "nombre= input(\"digite su nombre: \")\n",
        "\n",
        "for i in nombre:\n",
        "  print(i.upper())"
      ],
      "metadata": {
        "id": "l-Kkj_hb19nj"
      },
      "execution_count": null,
      "outputs": []
    },
    {
      "cell_type": "code",
      "source": [
        "# EJERCICIO 11: ingresar imprimir listas de datos usando for y range\n",
        "\n",
        "print(\"muestra los números de 0 al 9\")\n",
        "for i in range (10):\n",
        "  print(i)\n",
        "\n",
        "print(\"muestra los números de 1 al 10\")\n",
        "for i in range (1,11):\n",
        "  print(i)\n",
        "\n",
        "print(\"10 veces la frase\")\n",
        "for i in range (10):\n",
        "  print(\"sistemas el mejor\")\n",
        "\n",
        "print(\" 10 veces la frase i = \")\n",
        "for i in range (10):\n",
        "  print(\"i= \" + str(i))\n",
        "  \n",
        "print(\" 10 veces la frase i = \")\n",
        "for i in range (10):\n",
        "  print(f\"i= {i} \")\n",
        "\n",
        "print(\"rango del 7 al 18, incrementando de 4 en 4\")\n",
        "\n",
        "for i in range (7,19,4):\n",
        "  print(i)\n",
        "\n",
        "print(\"convierte rango en lista a,  y la muestra\")\n",
        "a= list (range(1000))\n",
        "print(a)"
      ],
      "metadata": {
        "id": "YDLr_pXsArKG"
      },
      "execution_count": null,
      "outputs": []
    },
    {
      "cell_type": "markdown",
      "source": [
        "# EJERCICIOS \n",
        "1. dada la siguinte lista de números [20, 21,30,41,50,51, 201] mostrar en pantalla solo los que NO terminan en 1.\n",
        "2. Mostrar 100 vece la palabra \"programación.\n",
        "3. Del conjunto de cadenas [\"E\", \"F\", \"M\", \"A\"] que corresponden a las iniciales de los primeros cuatro meses del año, mostrar el nombre completo de dichos meses.\n",
        "4. Leer un texto y determinar cuántas veces dicho texto contiene cada una de las vocales en minuscula y/o mayúscula"
      ],
      "metadata": {
        "id": "yKZqHmxNG1vh"
      }
    },
    {
      "cell_type": "code",
      "source": [
        "# EJERCICIO 1\n",
        "\n",
        "for i in [20, 21,30,41,50,51, 201]:\n",
        "\n",
        "  if (i%2)==0:\n",
        "    print(i)\n"
      ],
      "metadata": {
        "id": "LDMvVYabHnFA"
      },
      "execution_count": null,
      "outputs": []
    },
    {
      "cell_type": "code",
      "source": [
        "#EJERCICIO 2\n",
        "\n",
        "for i in range(1000):\n",
        "  print(\"programación\")"
      ],
      "metadata": {
        "id": "4pOh9FqPKWtA"
      },
      "execution_count": null,
      "outputs": []
    },
    {
      "cell_type": "code",
      "source": [
        "#EJERCICIO 3\n",
        "\n",
        "lista=(\"E\", \"F\", \"M\", \"A\")\n",
        "\n",
        "for i in lista:\n",
        "  if i=='E':\n",
        "    print(\"ENERO\")\n",
        "  if i=='F':\n",
        "    print(\"FEBRERO\")\n",
        "  if i=='M':\n",
        "    print(\"MARZO\")\n",
        "  if i=='A':\n",
        "    print(\"ABRIL\")\n"
      ],
      "metadata": {
        "id": "KxXXiS23Kfhj"
      },
      "execution_count": null,
      "outputs": []
    },
    {
      "cell_type": "code",
      "source": [
        "#EJERCICIO 4\n",
        "texto = input(\"Ingresa un texto: \")\n",
        "vocales = {'a': 0, 'e': 0, 'i': 0, 'o': 0, 'u': 0, 'A': 0, 'E': 0, 'I': 0, 'O': 0, 'U': 0}\n",
        "\n",
        "for letra in texto:\n",
        "    if letra in vocales:\n",
        "        vocales[letra] += 1\n",
        "\n",
        "print(\"Vocales en el texto:\")\n",
        "for vocal, cantidad in vocales.items():\n",
        "    print(f\"{vocal}: {cantidad}\")\n",
        "\n",
        "\n"
      ],
      "metadata": {
        "id": "VIjUYI9zL0l4"
      },
      "execution_count": null,
      "outputs": []
    }
  ]
}